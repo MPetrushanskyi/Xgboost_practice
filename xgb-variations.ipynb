{
 "cells": [
  {
   "cell_type": "code",
   "execution_count": 1,
   "id": "28287090",
   "metadata": {
    "_cell_guid": "b1076dfc-b9ad-4769-8c92-a6c4dae69d19",
    "_uuid": "8f2839f25d086af736a60e9eeb907d3b93b6e0e5",
    "execution": {
     "iopub.execute_input": "2021-09-16T08:38:18.811451Z",
     "iopub.status.busy": "2021-09-16T08:38:18.810365Z",
     "iopub.status.idle": "2021-09-16T08:38:19.732504Z",
     "shell.execute_reply": "2021-09-16T08:38:19.735252Z",
     "shell.execute_reply.started": "2021-09-16T08:33:05.834554Z"
    },
    "papermill": {
     "duration": 0.941924,
     "end_time": "2021-09-16T08:38:19.735590",
     "exception": false,
     "start_time": "2021-09-16T08:38:18.793666",
     "status": "completed"
    },
    "tags": []
   },
   "outputs": [
    {
     "name": "stdout",
     "output_type": "stream",
     "text": [
      "/kaggle/input/tabular-playground-series-sep-2021/train.csv\n",
      "/kaggle/input/tabular-playground-series-sep-2021/test.csv\n",
      "/kaggle/input/tabular-playground-series-sep-2021/sample_solution.csv\n"
     ]
    }
   ],
   "source": [
    "# This Python 3 environment comes with many helpful analytics libraries installed\n",
    "# It is defined by the kaggle/python Docker image: https://github.com/kaggle/docker-python\n",
    "# For example, here's several helpful packages to load\n",
    "\n",
    "import numpy as np # linear algebra\n",
    "import pandas as pd # data processing, CSV file I/O (e.g. pd.read_csv)\n",
    "import matplotlib.pyplot as plt\n",
    "import seaborn as sns\n",
    "import sklearn\n",
    "# Input data files are available in the read-only \"../input/\" directory\n",
    "# For example, running this (by clicking run or pressing Shift+Enter) will list all files under the input directory\n",
    "\n",
    "import os\n",
    "for dirname, _, filenames in os.walk('/kaggle/input'):\n",
    "    for filename in filenames:\n",
    "        print(os.path.join(dirname, filename))\n",
    "\n",
    "# You can write up to 20GB to the current directory (/kaggle/working/) that gets preserved as output when you create a version using \"Save & Run All\" \n",
    "# You can also write temporary files to /kaggle/temp/, but they won't be saved outside of the current session"
   ]
  },
  {
   "cell_type": "code",
   "execution_count": 2,
   "id": "51aa63db",
   "metadata": {
    "execution": {
     "iopub.execute_input": "2021-09-16T08:38:19.768867Z",
     "iopub.status.busy": "2021-09-16T08:38:19.768187Z",
     "iopub.status.idle": "2021-09-16T08:38:52.056122Z",
     "shell.execute_reply": "2021-09-16T08:38:52.056626Z",
     "shell.execute_reply.started": "2021-09-16T08:33:07.007229Z"
    },
    "papermill": {
     "duration": 32.30754,
     "end_time": "2021-09-16T08:38:52.056785",
     "exception": false,
     "start_time": "2021-09-16T08:38:19.749245",
     "status": "completed"
    },
    "tags": []
   },
   "outputs": [
    {
     "data": {
      "text/html": [
       "<div>\n",
       "<style scoped>\n",
       "    .dataframe tbody tr th:only-of-type {\n",
       "        vertical-align: middle;\n",
       "    }\n",
       "\n",
       "    .dataframe tbody tr th {\n",
       "        vertical-align: top;\n",
       "    }\n",
       "\n",
       "    .dataframe thead th {\n",
       "        text-align: right;\n",
       "    }\n",
       "</style>\n",
       "<table border=\"1\" class=\"dataframe\">\n",
       "  <thead>\n",
       "    <tr style=\"text-align: right;\">\n",
       "      <th></th>\n",
       "      <th>id</th>\n",
       "      <th>f1</th>\n",
       "      <th>f2</th>\n",
       "      <th>f3</th>\n",
       "      <th>f4</th>\n",
       "      <th>f5</th>\n",
       "      <th>f6</th>\n",
       "      <th>f7</th>\n",
       "      <th>f8</th>\n",
       "      <th>f9</th>\n",
       "      <th>...</th>\n",
       "      <th>f110</th>\n",
       "      <th>f111</th>\n",
       "      <th>f112</th>\n",
       "      <th>f113</th>\n",
       "      <th>f114</th>\n",
       "      <th>f115</th>\n",
       "      <th>f116</th>\n",
       "      <th>f117</th>\n",
       "      <th>f118</th>\n",
       "      <th>claim</th>\n",
       "    </tr>\n",
       "  </thead>\n",
       "  <tbody>\n",
       "    <tr>\n",
       "      <th>0</th>\n",
       "      <td>0</td>\n",
       "      <td>0.10859</td>\n",
       "      <td>0.004314</td>\n",
       "      <td>-37.566</td>\n",
       "      <td>0.017364</td>\n",
       "      <td>0.28915</td>\n",
       "      <td>-10.25100</td>\n",
       "      <td>135.12</td>\n",
       "      <td>168900.0</td>\n",
       "      <td>3.992400e+14</td>\n",
       "      <td>...</td>\n",
       "      <td>-12.2280</td>\n",
       "      <td>1.7482</td>\n",
       "      <td>1.90960</td>\n",
       "      <td>-7.11570</td>\n",
       "      <td>4378.80</td>\n",
       "      <td>1.2096</td>\n",
       "      <td>8.613400e+14</td>\n",
       "      <td>140.1</td>\n",
       "      <td>1.01770</td>\n",
       "      <td>1</td>\n",
       "    </tr>\n",
       "    <tr>\n",
       "      <th>1</th>\n",
       "      <td>1</td>\n",
       "      <td>0.10090</td>\n",
       "      <td>0.299610</td>\n",
       "      <td>11822.000</td>\n",
       "      <td>0.276500</td>\n",
       "      <td>0.45970</td>\n",
       "      <td>-0.83733</td>\n",
       "      <td>1721.90</td>\n",
       "      <td>119810.0</td>\n",
       "      <td>3.874100e+15</td>\n",
       "      <td>...</td>\n",
       "      <td>-56.7580</td>\n",
       "      <td>4.1684</td>\n",
       "      <td>0.34808</td>\n",
       "      <td>4.14200</td>\n",
       "      <td>913.23</td>\n",
       "      <td>1.2464</td>\n",
       "      <td>7.575100e+15</td>\n",
       "      <td>1861.0</td>\n",
       "      <td>0.28359</td>\n",
       "      <td>0</td>\n",
       "    </tr>\n",
       "    <tr>\n",
       "      <th>2</th>\n",
       "      <td>2</td>\n",
       "      <td>0.17803</td>\n",
       "      <td>-0.006980</td>\n",
       "      <td>907.270</td>\n",
       "      <td>0.272140</td>\n",
       "      <td>0.45948</td>\n",
       "      <td>0.17327</td>\n",
       "      <td>2298.00</td>\n",
       "      <td>360650.0</td>\n",
       "      <td>1.224500e+13</td>\n",
       "      <td>...</td>\n",
       "      <td>-5.7688</td>\n",
       "      <td>1.2042</td>\n",
       "      <td>0.26290</td>\n",
       "      <td>8.13120</td>\n",
       "      <td>45119.00</td>\n",
       "      <td>1.1764</td>\n",
       "      <td>3.218100e+14</td>\n",
       "      <td>3838.2</td>\n",
       "      <td>0.40690</td>\n",
       "      <td>1</td>\n",
       "    </tr>\n",
       "    <tr>\n",
       "      <th>3</th>\n",
       "      <td>3</td>\n",
       "      <td>0.15236</td>\n",
       "      <td>0.007259</td>\n",
       "      <td>780.100</td>\n",
       "      <td>0.025179</td>\n",
       "      <td>0.51947</td>\n",
       "      <td>7.49140</td>\n",
       "      <td>112.51</td>\n",
       "      <td>259490.0</td>\n",
       "      <td>7.781400e+13</td>\n",
       "      <td>...</td>\n",
       "      <td>-34.8580</td>\n",
       "      <td>2.0694</td>\n",
       "      <td>0.79631</td>\n",
       "      <td>-16.33600</td>\n",
       "      <td>4952.40</td>\n",
       "      <td>1.1784</td>\n",
       "      <td>4.533000e+12</td>\n",
       "      <td>4889.1</td>\n",
       "      <td>0.51486</td>\n",
       "      <td>1</td>\n",
       "    </tr>\n",
       "    <tr>\n",
       "      <th>4</th>\n",
       "      <td>4</td>\n",
       "      <td>0.11623</td>\n",
       "      <td>0.502900</td>\n",
       "      <td>-109.150</td>\n",
       "      <td>0.297910</td>\n",
       "      <td>0.34490</td>\n",
       "      <td>-0.40932</td>\n",
       "      <td>2538.90</td>\n",
       "      <td>65332.0</td>\n",
       "      <td>1.907200e+15</td>\n",
       "      <td>...</td>\n",
       "      <td>-13.6410</td>\n",
       "      <td>1.5298</td>\n",
       "      <td>1.14640</td>\n",
       "      <td>-0.43124</td>\n",
       "      <td>3856.50</td>\n",
       "      <td>1.4830</td>\n",
       "      <td>-8.991300e+12</td>\n",
       "      <td>NaN</td>\n",
       "      <td>0.23049</td>\n",
       "      <td>1</td>\n",
       "    </tr>\n",
       "  </tbody>\n",
       "</table>\n",
       "<p>5 rows × 120 columns</p>\n",
       "</div>"
      ],
      "text/plain": [
       "   id       f1        f2         f3        f4       f5        f6       f7  \\\n",
       "0   0  0.10859  0.004314    -37.566  0.017364  0.28915 -10.25100   135.12   \n",
       "1   1  0.10090  0.299610  11822.000  0.276500  0.45970  -0.83733  1721.90   \n",
       "2   2  0.17803 -0.006980    907.270  0.272140  0.45948   0.17327  2298.00   \n",
       "3   3  0.15236  0.007259    780.100  0.025179  0.51947   7.49140   112.51   \n",
       "4   4  0.11623  0.502900   -109.150  0.297910  0.34490  -0.40932  2538.90   \n",
       "\n",
       "         f8            f9  ...     f110    f111     f112      f113      f114  \\\n",
       "0  168900.0  3.992400e+14  ... -12.2280  1.7482  1.90960  -7.11570   4378.80   \n",
       "1  119810.0  3.874100e+15  ... -56.7580  4.1684  0.34808   4.14200    913.23   \n",
       "2  360650.0  1.224500e+13  ...  -5.7688  1.2042  0.26290   8.13120  45119.00   \n",
       "3  259490.0  7.781400e+13  ... -34.8580  2.0694  0.79631 -16.33600   4952.40   \n",
       "4   65332.0  1.907200e+15  ... -13.6410  1.5298  1.14640  -0.43124   3856.50   \n",
       "\n",
       "     f115          f116    f117     f118  claim  \n",
       "0  1.2096  8.613400e+14   140.1  1.01770      1  \n",
       "1  1.2464  7.575100e+15  1861.0  0.28359      0  \n",
       "2  1.1764  3.218100e+14  3838.2  0.40690      1  \n",
       "3  1.1784  4.533000e+12  4889.1  0.51486      1  \n",
       "4  1.4830 -8.991300e+12     NaN  0.23049      1  \n",
       "\n",
       "[5 rows x 120 columns]"
      ]
     },
     "execution_count": 2,
     "metadata": {},
     "output_type": "execute_result"
    }
   ],
   "source": [
    "df=pd.read_csv(\"/kaggle/input/tabular-playground-series-sep-2021/train.csv\")\n",
    "df.head()"
   ]
  },
  {
   "cell_type": "code",
   "execution_count": 3,
   "id": "1b5697ba",
   "metadata": {
    "execution": {
     "iopub.execute_input": "2021-09-16T08:38:52.100343Z",
     "iopub.status.busy": "2021-09-16T08:38:52.099683Z",
     "iopub.status.idle": "2021-09-16T08:38:52.102168Z",
     "shell.execute_reply": "2021-09-16T08:38:52.102638Z",
     "shell.execute_reply.started": "2021-09-16T08:34:28.750456Z"
    },
    "papermill": {
     "duration": 0.032559,
     "end_time": "2021-09-16T08:38:52.102795",
     "exception": false,
     "start_time": "2021-09-16T08:38:52.070236",
     "status": "completed"
    },
    "tags": []
   },
   "outputs": [
    {
     "data": {
      "text/plain": [
       "0    480404\n",
       "1    477515\n",
       "Name: claim, dtype: int64"
      ]
     },
     "execution_count": 3,
     "metadata": {},
     "output_type": "execute_result"
    }
   ],
   "source": [
    "df[\"claim\"].value_counts()"
   ]
  },
  {
   "cell_type": "code",
   "execution_count": 4,
   "id": "87ac0309",
   "metadata": {
    "execution": {
     "iopub.execute_input": "2021-09-16T08:38:52.133232Z",
     "iopub.status.busy": "2021-09-16T08:38:52.132631Z",
     "iopub.status.idle": "2021-09-16T08:38:52.137396Z",
     "shell.execute_reply": "2021-09-16T08:38:52.136928Z",
     "shell.execute_reply.started": "2021-09-16T08:34:10.163829Z"
    },
    "papermill": {
     "duration": 0.020823,
     "end_time": "2021-09-16T08:38:52.137521",
     "exception": false,
     "start_time": "2021-09-16T08:38:52.116698",
     "status": "completed"
    },
    "tags": []
   },
   "outputs": [],
   "source": [
    "def preprocess(df):\n",
    "    df=df.fillna(df.mean())\n",
    "    return df\n",
    "def preprocess_drop(df):\n",
    "    df=df.dropna(axis=0)\n",
    "    return df"
   ]
  },
  {
   "cell_type": "code",
   "execution_count": 5,
   "id": "a630c9d6",
   "metadata": {
    "execution": {
     "iopub.execute_input": "2021-09-16T08:38:52.169535Z",
     "iopub.status.busy": "2021-09-16T08:38:52.168837Z",
     "iopub.status.idle": "2021-09-16T08:38:53.101655Z",
     "shell.execute_reply": "2021-09-16T08:38:53.101156Z",
     "shell.execute_reply.started": "2021-09-16T08:34:15.391462Z"
    },
    "papermill": {
     "duration": 0.950787,
     "end_time": "2021-09-16T08:38:53.101789",
     "exception": false,
     "start_time": "2021-09-16T08:38:52.151002",
     "status": "completed"
    },
    "tags": []
   },
   "outputs": [
    {
     "data": {
      "text/plain": [
       "id       0\n",
       "f1       0\n",
       "f2       0\n",
       "f3       0\n",
       "f4       0\n",
       "        ..\n",
       "f115     0\n",
       "f116     0\n",
       "f117     0\n",
       "f118     0\n",
       "claim    0\n",
       "Length: 120, dtype: int64"
      ]
     },
     "execution_count": 5,
     "metadata": {},
     "output_type": "execute_result"
    }
   ],
   "source": [
    "df_tmp=df.copy()\n",
    "df_tmp=preprocess_drop(df_tmp)\n",
    "df_tmp.isna().sum()"
   ]
  },
  {
   "cell_type": "code",
   "execution_count": 6,
   "id": "581df1ec",
   "metadata": {
    "execution": {
     "iopub.execute_input": "2021-09-16T08:38:53.134907Z",
     "iopub.status.busy": "2021-09-16T08:38:53.134213Z",
     "iopub.status.idle": "2021-09-16T08:38:53.651016Z",
     "shell.execute_reply": "2021-09-16T08:38:53.651705Z",
     "shell.execute_reply.started": "2021-09-16T08:34:40.165405Z"
    },
    "papermill": {
     "duration": 0.536117,
     "end_time": "2021-09-16T08:38:53.651870",
     "exception": false,
     "start_time": "2021-09-16T08:38:53.115753",
     "status": "completed"
    },
    "tags": []
   },
   "outputs": [],
   "source": [
    "from sklearn.model_selection import train_test_split\n",
    "X,y=df_tmp.drop(\"claim\",axis=1),df_tmp.claim\n",
    "X_train, X_val, y_train, y_val= train_test_split(X,y,test_size=0.2)"
   ]
  },
  {
   "cell_type": "code",
   "execution_count": 7,
   "id": "3214c9f2",
   "metadata": {
    "execution": {
     "iopub.execute_input": "2021-09-16T08:38:53.684646Z",
     "iopub.status.busy": "2021-09-16T08:38:53.683985Z",
     "iopub.status.idle": "2021-09-16T08:38:53.759175Z",
     "shell.execute_reply": "2021-09-16T08:38:53.758642Z",
     "shell.execute_reply.started": "2021-09-16T08:34:41.755737Z"
    },
    "papermill": {
     "duration": 0.092971,
     "end_time": "2021-09-16T08:38:53.759333",
     "exception": false,
     "start_time": "2021-09-16T08:38:53.666362",
     "status": "completed"
    },
    "tags": []
   },
   "outputs": [],
   "source": [
    "import xgboost as xgb"
   ]
  },
  {
   "cell_type": "code",
   "execution_count": 8,
   "id": "13541959",
   "metadata": {
    "execution": {
     "iopub.execute_input": "2021-09-16T08:38:53.792196Z",
     "iopub.status.busy": "2021-09-16T08:38:53.791628Z",
     "iopub.status.idle": "2021-09-16T08:38:53.793301Z",
     "shell.execute_reply": "2021-09-16T08:38:53.793702Z",
     "shell.execute_reply.started": "2021-09-16T08:34:42.987500Z"
    },
    "papermill": {
     "duration": 0.019997,
     "end_time": "2021-09-16T08:38:53.793847",
     "exception": false,
     "start_time": "2021-09-16T08:38:53.773850",
     "status": "completed"
    },
    "tags": []
   },
   "outputs": [],
   "source": [
    "from xgboost import XGBClassifier\n"
   ]
  },
  {
   "cell_type": "code",
   "execution_count": 9,
   "id": "a34bad75",
   "metadata": {
    "execution": {
     "iopub.execute_input": "2021-09-16T08:38:53.824451Z",
     "iopub.status.busy": "2021-09-16T08:38:53.823863Z",
     "iopub.status.idle": "2021-09-16T08:39:06.813865Z",
     "shell.execute_reply": "2021-09-16T08:39:06.814317Z",
     "shell.execute_reply.started": "2021-09-16T08:34:45.868175Z"
    },
    "papermill": {
     "duration": 13.006706,
     "end_time": "2021-09-16T08:39:06.814484",
     "exception": false,
     "start_time": "2021-09-16T08:38:53.807778",
     "status": "completed"
    },
    "tags": []
   },
   "outputs": [
    {
     "name": "stderr",
     "output_type": "stream",
     "text": [
      "/opt/conda/lib/python3.7/site-packages/xgboost/sklearn.py:1146: UserWarning: The use of label encoder in XGBClassifier is deprecated and will be removed in a future release. To remove this warning, do the following: 1) Pass option use_label_encoder=False when constructing XGBClassifier object; and 2) Encode your labels (y) as integers starting with 0, i.e. 0, 1, 2, ..., [num_class - 1].\n",
      "  warnings.warn(label_encoder_deprecation_msg, UserWarning)\n"
     ]
    },
    {
     "name": "stdout",
     "output_type": "stream",
     "text": [
      "[08:38:54] WARNING: ../src/learner.cc:1095: Starting in XGBoost 1.3.0, the default evaluation metric used with the objective 'binary:logistic' was changed from 'error' to 'logloss'. Explicitly set eval_metric if you'd like to restore the old behavior.\n"
     ]
    },
    {
     "data": {
      "text/plain": [
       "XGBClassifier(base_score=0.5, booster='gbtree', colsample_bylevel=1,\n",
       "              colsample_bynode=1, colsample_bytree=1, gamma=0, gpu_id=-1,\n",
       "              importance_type='gain', interaction_constraints='',\n",
       "              learning_rate=0.300000012, max_delta_step=0, max_depth=6,\n",
       "              min_child_weight=1, missing=nan, monotone_constraints='()',\n",
       "              n_estimators=100, n_jobs=4, num_parallel_tree=1, random_state=0,\n",
       "              reg_alpha=0, reg_lambda=1, scale_pos_weight=1, subsample=1,\n",
       "              tree_method='exact', validate_parameters=1, verbosity=None)"
      ]
     },
     "execution_count": 9,
     "metadata": {},
     "output_type": "execute_result"
    }
   ],
   "source": [
    "xgb=XGBClassifier()\n",
    "xgb.fit(X_train[:10000],y_train[:10000])"
   ]
  },
  {
   "cell_type": "code",
   "execution_count": 10,
   "id": "6930399d",
   "metadata": {
    "execution": {
     "iopub.execute_input": "2021-09-16T08:39:06.849798Z",
     "iopub.status.busy": "2021-09-16T08:39:06.848759Z",
     "iopub.status.idle": "2021-09-16T08:39:07.009849Z",
     "shell.execute_reply": "2021-09-16T08:39:07.010711Z",
     "shell.execute_reply.started": "2021-09-16T08:35:05.807167Z"
    },
    "papermill": {
     "duration": 0.180234,
     "end_time": "2021-09-16T08:39:07.010898",
     "exception": false,
     "start_time": "2021-09-16T08:39:06.830664",
     "status": "completed"
    },
    "tags": []
   },
   "outputs": [
    {
     "data": {
      "text/plain": [
       "0.861585968035831"
      ]
     },
     "execution_count": 10,
     "metadata": {},
     "output_type": "execute_result"
    }
   ],
   "source": [
    "xgb.score(X_val,y_val)"
   ]
  },
  {
   "cell_type": "code",
   "execution_count": 11,
   "id": "60a819fb",
   "metadata": {
    "execution": {
     "iopub.execute_input": "2021-09-16T08:39:07.051220Z",
     "iopub.status.busy": "2021-09-16T08:39:07.049918Z",
     "iopub.status.idle": "2021-09-16T08:39:08.223653Z",
     "shell.execute_reply": "2021-09-16T08:39:08.223142Z",
     "shell.execute_reply.started": "2021-09-16T08:35:19.965148Z"
    },
    "papermill": {
     "duration": 1.196811,
     "end_time": "2021-09-16T08:39:08.223788",
     "exception": false,
     "start_time": "2021-09-16T08:39:07.026977",
     "status": "completed"
    },
    "tags": []
   },
   "outputs": [],
   "source": [
    "from sklearn.preprocessing import StandardScaler\n",
    "scaler=StandardScaler()\n",
    "X=scaler.fit_transform(X)"
   ]
  },
  {
   "cell_type": "code",
   "execution_count": 12,
   "id": "fa00a212",
   "metadata": {
    "execution": {
     "iopub.execute_input": "2021-09-16T08:39:08.260028Z",
     "iopub.status.busy": "2021-09-16T08:39:08.259225Z",
     "iopub.status.idle": "2021-09-16T08:39:08.786167Z",
     "shell.execute_reply": "2021-09-16T08:39:08.786669Z",
     "shell.execute_reply.started": "2021-09-16T08:35:23.213693Z"
    },
    "papermill": {
     "duration": 0.547793,
     "end_time": "2021-09-16T08:39:08.786846",
     "exception": false,
     "start_time": "2021-09-16T08:39:08.239053",
     "status": "completed"
    },
    "tags": []
   },
   "outputs": [],
   "source": [
    "X_train, X_val, y_train, y_val= train_test_split(X,y,test_size=0.2)"
   ]
  },
  {
   "cell_type": "code",
   "execution_count": 13,
   "id": "076183a5",
   "metadata": {
    "execution": {
     "iopub.execute_input": "2021-09-16T08:39:08.822895Z",
     "iopub.status.busy": "2021-09-16T08:39:08.821911Z",
     "iopub.status.idle": "2021-09-16T08:39:21.083814Z",
     "shell.execute_reply": "2021-09-16T08:39:21.083337Z",
     "shell.execute_reply.started": "2021-09-16T08:37:28.408948Z"
    },
    "papermill": {
     "duration": 12.28187,
     "end_time": "2021-09-16T08:39:21.083957",
     "exception": false,
     "start_time": "2021-09-16T08:39:08.802087",
     "status": "completed"
    },
    "tags": []
   },
   "outputs": [
    {
     "name": "stderr",
     "output_type": "stream",
     "text": [
      "/opt/conda/lib/python3.7/site-packages/xgboost/sklearn.py:1146: UserWarning: The use of label encoder in XGBClassifier is deprecated and will be removed in a future release. To remove this warning, do the following: 1) Pass option use_label_encoder=False when constructing XGBClassifier object; and 2) Encode your labels (y) as integers starting with 0, i.e. 0, 1, 2, ..., [num_class - 1].\n",
      "  warnings.warn(label_encoder_deprecation_msg, UserWarning)\n"
     ]
    },
    {
     "data": {
      "text/plain": [
       "XGBClassifier(base_score=0.5, booster='gbtree', colsample_bylevel=1,\n",
       "              colsample_bynode=1, colsample_bytree=1, eval_metric='auc',\n",
       "              gamma=0, gpu_id=-1, importance_type='gain',\n",
       "              interaction_constraints='', learning_rate=0.300000012,\n",
       "              max_delta_step=0, max_depth=6, min_child_weight=1, missing=nan,\n",
       "              monotone_constraints='()', n_estimators=100, n_jobs=4,\n",
       "              num_parallel_tree=1, random_state=0, reg_alpha=0, reg_lambda=1,\n",
       "              scale_pos_weight=1, subsample=1, tree_method='exact',\n",
       "              validate_parameters=1, verbosity=None)"
      ]
     },
     "execution_count": 13,
     "metadata": {},
     "output_type": "execute_result"
    }
   ],
   "source": [
    "xgb1=XGBClassifier(eval_metric=\"auc\")\n",
    "xgb1.fit(X_train[:10000],y_train[:10000])"
   ]
  },
  {
   "cell_type": "code",
   "execution_count": 14,
   "id": "94ba859c",
   "metadata": {
    "execution": {
     "iopub.execute_input": "2021-09-16T08:39:21.122634Z",
     "iopub.status.busy": "2021-09-16T08:39:21.121751Z",
     "iopub.status.idle": "2021-09-16T08:39:21.246727Z",
     "shell.execute_reply": "2021-09-16T08:39:21.247648Z",
     "shell.execute_reply.started": "2021-09-16T08:37:46.509621Z"
    },
    "papermill": {
     "duration": 0.147406,
     "end_time": "2021-09-16T08:39:21.247849",
     "exception": false,
     "start_time": "2021-09-16T08:39:21.100443",
     "status": "completed"
    },
    "tags": []
   },
   "outputs": [
    {
     "data": {
      "text/plain": [
       "0.8588179655877485"
      ]
     },
     "execution_count": 14,
     "metadata": {},
     "output_type": "execute_result"
    }
   ],
   "source": [
    "xgb1.score(X_val,y_val)"
   ]
  },
  {
   "cell_type": "code",
   "execution_count": null,
   "id": "52108bb4",
   "metadata": {
    "papermill": {
     "duration": 0.016424,
     "end_time": "2021-09-16T08:39:21.281087",
     "exception": false,
     "start_time": "2021-09-16T08:39:21.264663",
     "status": "completed"
    },
    "tags": []
   },
   "outputs": [],
   "source": []
  }
 ],
 "metadata": {
  "kernelspec": {
   "display_name": "Python 3",
   "language": "python",
   "name": "python3"
  },
  "language_info": {
   "codemirror_mode": {
    "name": "ipython",
    "version": 3
   },
   "file_extension": ".py",
   "mimetype": "text/x-python",
   "name": "python",
   "nbconvert_exporter": "python",
   "pygments_lexer": "ipython3",
   "version": "3.7.10"
  },
  "papermill": {
   "default_parameters": {},
   "duration": 70.44737,
   "end_time": "2021-09-16T08:39:21.906837",
   "environment_variables": {},
   "exception": null,
   "input_path": "__notebook__.ipynb",
   "output_path": "__notebook__.ipynb",
   "parameters": {},
   "start_time": "2021-09-16T08:38:11.459467",
   "version": "2.3.3"
  }
 },
 "nbformat": 4,
 "nbformat_minor": 5
}
